{
 "cells": [
  {
   "cell_type": "code",
   "execution_count": null,
   "id": "fdd79d4b",
   "metadata": {},
   "outputs": [],
   "source": [
    "my_file = opem('test.txt')"
   ]
  },
  {
   "cell_type": "code",
   "execution_count": null,
   "id": "1dce3c06",
   "metadata": {},
   "outputs": [],
   "source": [
    "my_file.read()"
   ]
  }
 ],
 "metadata": {
  "kernelspec": {
   "display_name": "Python 3 (ipykernel)",
   "language": "python",
   "name": "python3"
  },
  "language_info": {
   "codemirror_mode": {
    "name": "ipython",
    "version": 3
   },
   "file_extension": ".py",
   "mimetype": "text/x-python",
   "name": "python",
   "nbconvert_exporter": "python",
   "pygments_lexer": "ipython3",
   "version": "3.11.5"
  }
 },
 "nbformat": 4,
 "nbformat_minor": 5
}
