{
 "cells": [
  {
   "cell_type": "code",
   "execution_count": 3,
   "id": "d918ce46",
   "metadata": {},
   "outputs": [
    {
     "name": "stdout",
     "output_type": "stream",
     "text": [
      "Comments extracted and saved to comments.txt\n"
     ]
    }
   ],
   "source": [
    "import csv\n",
    "csv_file = 'sample_data.csv'\n",
    "output_file = 'comments.txt'\n",
    "\n",
    "with open(csv_file, 'r', newline='') as csvfile:\n",
    " reader = csv.DictReader(csvfile)\n",
    " comments = []\n",
    " \n",
    " for row in reader:\n",
    "  comments.append(row['comments'])\n",
    "\n",
    "with open(output_file, 'w') as txtfile:\n",
    " for comment in comments:\n",
    "  txtfile.write(comment + '\\n')\n",
    "\n",
    "print(\"Comments extracted and saved to\", output_file)"
   ]
  },
  {
   "cell_type": "code",
   "execution_count": null,
   "id": "dfebd124",
   "metadata": {},
   "outputs": [],
   "source": []
  }
 ],
 "metadata": {
  "kernelspec": {
   "display_name": "Python 3 (ipykernel)",
   "language": "python",
   "name": "python3"
  },
  "language_info": {
   "codemirror_mode": {
    "name": "ipython",
    "version": 3
   },
   "file_extension": ".py",
   "mimetype": "text/x-python",
   "name": "python",
   "nbconvert_exporter": "python",
   "pygments_lexer": "ipython3",
   "version": "3.11.5"
  }
 },
 "nbformat": 4,
 "nbformat_minor": 5
}
