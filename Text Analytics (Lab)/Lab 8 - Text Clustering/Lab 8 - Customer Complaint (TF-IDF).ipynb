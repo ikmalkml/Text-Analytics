{
 "cells": [
  {
   "cell_type": "markdown",
   "id": "4b7e2fb9",
   "metadata": {},
   "source": [
    "# TF-IDF"
   ]
  },
  {
   "cell_type": "markdown",
   "id": "5c4f7250",
   "metadata": {},
   "source": [
    "## Text Preprocessing"
   ]
  },
  {
   "cell_type": "code",
   "execution_count": 8,
   "id": "6c81cacb",
   "metadata": {},
   "outputs": [
    {
     "name": "stderr",
     "output_type": "stream",
     "text": [
      "[nltk_data] Downloading package punkt to\n",
      "[nltk_data]     /Users/ikmalkamil/nltk_data...\n",
      "[nltk_data]   Package punkt is already up-to-date!\n",
      "[nltk_data] Downloading package stopwords to\n",
      "[nltk_data]     /Users/ikmalkamil/nltk_data...\n",
      "[nltk_data]   Package stopwords is already up-to-date!\n",
      "[nltk_data] Downloading package wordnet to\n",
      "[nltk_data]     /Users/ikmalkamil/nltk_data...\n",
      "[nltk_data]   Package wordnet is already up-to-date!\n"
     ]
    },
    {
     "name": "stdout",
     "output_type": "stream",
     "text": [
      "0    [used, love, comcast, constant, update, intern...\n",
      "1    [im, comcast, worst, internet, provider, im, t...\n",
      "2    [could, give, negative, star, star, review, wo...\n",
      "3    [ive, worst, experience, far, since, install, ...\n",
      "4    [check, contract, sign, comcast, advertised, o...\n",
      "Name: text, dtype: object\n"
     ]
    }
   ],
   "source": [
    "import pandas as pd\n",
    "import string\n",
    "import nltk\n",
    "from nltk.tokenize import word_tokenize\n",
    "from nltk.corpus import stopwords\n",
    "from nltk.stem import WordNetLemmatizer\n",
    "\n",
    "# Download necessary resources from NLTK\n",
    "nltk.download('punkt')\n",
    "nltk.download('stopwords')\n",
    "nltk.download('wordnet')\n",
    "\n",
    "# Read the CSV file into a DataFrame\n",
    "dataset = pd.read_csv(\"customer_complaints_1.csv\")\n",
    "\n",
    "# Access the \"text\" column\n",
    "text_column = dataset[\"text\"]\n",
    "\n",
    "# Function to preprocess text\n",
    "def preprocess_text(text):\n",
    "    # Remove punctuations\n",
    "    text = text.translate(str.maketrans('', '', string.punctuation))\n",
    "    # Convert to lowercase\n",
    "    text = text.lower()\n",
    "    # Remove numbers\n",
    "    text = ''.join([i for i in text if not i.isdigit()])\n",
    "    # Tokenize\n",
    "    tokens = word_tokenize(text)\n",
    "    # Remove stopwords\n",
    "    stop_words = set(stopwords.words('english'))\n",
    "    tokens = [word for word in tokens if word not in stop_words]\n",
    "    # Lemmatize\n",
    "    lemmatizer = WordNetLemmatizer()\n",
    "    tokens = [lemmatizer.lemmatize(word) for word in tokens]\n",
    "    return tokens\n",
    "\n",
    "# Apply preprocessing to each entry in the \"text_column\"\n",
    "preprocessed_text_column = text_column.apply(preprocess_text)\n",
    "\n",
    "# Print the first few preprocessed entries\n",
    "print(preprocessed_text_column.head())"
   ]
  },
  {
   "cell_type": "code",
   "execution_count": 18,
   "id": "3d0bebad",
   "metadata": {},
   "outputs": [],
   "source": [
    "from sklearn.feature_extraction.text import TfidfVectorizer\n",
    "\n",
    "# Convert preprocessed_text_column back to text format\n",
    "preprocessed_text = preprocessed_text_column.apply(lambda x: ' '.join(x))\n",
    "\n",
    "# Initialize TfidfVectorizer\n",
    "vectorizer = TfidfVectorizer()\n",
    "\n",
    "# Fit and transform the preprocessed text\n",
    "X = vectorizer.fit_transform(preprocessed_text)\n",
    "\n",
    "# X is now your TF-IDF matrix"
   ]
  },
  {
   "cell_type": "code",
   "execution_count": 20,
   "id": "c4e90a3d",
   "metadata": {},
   "outputs": [
    {
     "name": "stdout",
     "output_type": "stream",
     "text": [
      "Document                                                                                                                                                                                                                                                                                                                                                                                                                                                                                                                                                                                                                                                                                                                                                                                                                                                                                                                                                                                                                                                                                                                                                                                                                                                                                                                                                                                                                                                                                                                                                                                                                                                                                                                                                                                                                                                                                                                                                                                                                                                                                                                                                  Predicted Cluster\n",
      "------------------------------------------------------------------------------------------------------------------------------------------------------------------------------------------------------------------------------------------------------------------------------------------------------------------------------------------------------------------------------------------------------------------------------------------------------------------------------------------------------------------------------------------------------------------------------------------------------------------------------------------------------------------------------------------------------------------------------------------------------------------------------------------------------------------------------------------------------------------------------------------------------------------------------------------------------------------------------------------------------------------------------------------------------------------------------------------------------------------------------------------------------------------------------------------------------------------------------------------------------------------------------------------------------------------------------------------------------------------------------------------------------------------------------------------------------------------------------------------------------------------------------------------------------------------------------------------------------------------------------------------------------------------------------------------------------------------------------------------------------------------------------------------------------------------------------------------------------------------------------------------------------------------------------------------------------------------------------------------------------------------------------------------------------------------------------------------------------------------------------------------------------  -------------------\n",
      "used love comcast constant update internet cable crash lot night sometimes day channel dont even work demand sometimes dont play either wish something min ago internet crashed min reason im tired thinking switching wow something please get xfinity                                                                                                                                                                                                                                                                                                                                                                                                                                                                                                                                                                                                                                                                                                                                                                                                                                                                                                                                                                                                                                                                                                                                                                                                                                                                                                                                                                                                                                                                                                                                                                                                                                                                                                                                                                                                                                                                                                                   0\n",
      "im comcast worst internet provider im taking online class multiple time late assignment power interruption area lead poor quality internet service definitely switching verizon id rather pay extra dealing w comcast non stopping internet problem                                                                                                                                                                                                                                                                                                                                                                                                                                                                                                                                                                                                                                                                                                                                                                                                                                                                                                                                                                                                                                                                                                                                                                                                                                                                                                                                                                                                                                                                                                                                                                                                                                                                                                                                                                                                                                                                                                                       0\n",
      "could give negative star star review would never worked industry bad customer service comcast matter money make well enough beyond afford service legitimate ripoff think biggest scam since mortgage industry major meltdown hope move somewhere comcast exist disregard want help right thing honestly astounding call issue billing connectionservice adding removing service error matter transferred minimum time everyone say thing pass issue next person one resolve problemthey offer promotional package small timeframes never access upgrade without wishing change billing month overcharged month since started blatant rudeness must make qualified job type quality service get review dear comcast suck sincerely customer wait never use service                                                                                                                                                                                                                                                                                                                                                                                                                                                                                                                                                                                                                                                                                                                                                                                                                                                                                                                                                                                                                                                                                                                                                                                                                                                                                                                                                                                                        0\n",
      "ive worst experience far since install nothing problem two show scheduled service appointment extreme difficulty adding box second floor difficult adding box existing account thank im starting second account second floor house separate bundle package wanted add box apparently possible well guess possible remain customer                                                                                                                                                                                                                                                                                                                                                                                                                                                                                                                                                                                                                                                                                                                                                                                                                                                                                                                                                                                                                                                                                                                                                                                                                                                                                                                                                                                                                                                                                                                                                                                                                                                                                                                                                                                                                                         0\n",
      "check contract sign comcast advertised offer match contract issue signed mbps internet year however contract mbps internet year say add place boost blast pro however isnt part contract mean comcast increase price whenever want within year mean havent received advertised rate comcast far refused issue corrected contract issue writing remain price year trust watch comcast usual illegal practice im guessing catch people hope dont notice end paying                                                                                                                                                                                                                                                                                                                                                                                                                                                                                                                                                                                                                                                                                                                                                                                                                                                                                                                                                                                                                                                                                                                                                                                                                                                                                                                                                                                                                                                                                                                                                                                                                                                                                                          0\n",
      "thank god changing dish gave awesome pricing super people deal actually understand saying im excited finally able return equipment although still havent received home security yet promised time go hll comcast made miserable cause miss many hour work promise                                                                                                                                                                                                                                                                                                                                                                                                                                                                                                                                                                                                                                                                                                                                                                                                                                                                                                                                                                                                                                                                                                                                                                                                                                                                                                                                                                                                                                                                                                                                                                                                                                                                                                                                                                                                                                                                                                         0\n",
      "long time customer xfinity isp local walmart november customer representative xfinity running promotion salt lake city area spoke representative able get signed contract pro blast month contract early termination fee received email xfinity stating change would made account stated would contract month would early termination fee originally signed specifically state contract signed contacted xfinity customer service told since see contract phone would need go xfinity store person went xfinity store november told would contract way around cancelled upgrade went back original plan plain simple contract signed honored stated xfinity dishonest trustworthy therefore looking changing isp soon possible another company xfinity deserve paycheck anyone else know                                                                                                                                                                                                                                                                                                                                                                                                                                                                                                                                                                                                                                                                                                                                                                                                                                                                                                                                                                                                                                                                                                                                                                                                                                                                                                                                                                                  0\n",
      "malfunction dvr manager preventing u adding recording customer service fairly certain problem signal system protocol demand access home investigating option since work done next saturday customer service tech agreed seems illogical since logic would dictate one would investigate probably malfunction first insists must follow protocol extremely frustrating year customer comcast predecessor investigating alternative                                                                                                                                                                                                                                                                                                                                                                                                                                                                                                                                                                                                                                                                                                                                                                                                                                                                                                                                                                                                                                                                                                                                                                                                                                                                                                                                                                                                                                                                                                                                                                                                                                                                                                                                         0\n",
      "charge overwhelming comcast service rep ignorant rude call resolve issue bill emailed tom rep rude none representative helpful pas people cutting service comcast                                                                                                                                                                                                                                                                                                                                                                                                                                                                                                                                                                                                                                                                                                                                                                                                                                                                                                                                                                                                                                                                                                                                                                                                                                                                                                                                                                                                                                                                                                                                                                                                                                                                                                                                                                                                                                                                                                                                                                                                         1\n",
      "cable dish uverse etc past eh know comcast take cake never driven take time day gripe online see consumer stay away first terrible experience comcast took phone month come bury line lay front yard get cable needed house finally got someone special need neighbor tripped fellnow month contract internet phone tv go hour time would spend hour tech come back technician reset router manually rd th time work home occasionally huge inconvenience hardware faulty understand sometimes get lemon month month worst company ever crappy equipment terrible customer service worse technician hire clue comcast send technician switch equipment set bonfire                                                                                                                                                                                                                                                                                                                                                                                                                                                                                                                                                                                                                                                                                                                                                                                                                                                                                                                                                                                                                                                                                                                                                                                                                                                                                                                                                                                                                                                                                                        0\n",
      "id tell new customer run nowhere run tried turned comcast xfinity signing contract meaning fine print contract suggest read randomly change contract say change anything anytime anything wrong disagree performance pro paying speed internet month contract month month alone speed listed told got letter friday saying tue today im forced new contract plan im paying data speed cap terabyte seems like lot signed customer service say thats deal dont offer plan speed changed use internet pay fair customer matter fair signed use use firestick stream everything day frustrating kept saying use go unlimited plan dont got rid directv firestick paying unlimited speed changed pay data huge difference say wont know change unless go closest got far wont charge going first month get used first went talk someone store didnt want talk told needed call billing dont know help explain pay bill get equipment minute guy called someone good explaining letter know letter someone explain didnt want deal store guy come lie u well tell u letter got sent everyone new customer u whatever know lie leave today call comcast soon call asks calling data say yes directs call someone know say read contract nothing dont know anything need billing put call somewhere cant help run around last guy talked internet around im forced pay data dont even get better speed gypped also wrong got notified friday tuesday nov st change take effect                                                                                                                                                                                                                                                                                                                                                                                                                                                                                                                                                                                                                                                                                                   0\n",
      "disappointed comcastxfinity customer almost two decade pay high speed get intermittent internet call every week almost cant take time call often get frustrated spend minute first person resetting modem walking initial process even giving history told pay technician complaining explaining transfer specialist speed test confirms saying even though test say modem working test port modem new modem replaced last week issue tell line issue modem isnt performing correctly technician reprograms portsretests work awesome initially get carry dataonly retest technician minute later speed low say need send tech look line cold transfer back xfinity without warning someone answer start process reset modem charge tech transfer specialist another hour wasted week last week modern age month would think could work home without distraction pay fastest package mbps download mbps upload receive random speed throughout day mbps download mbps upload often lower number wireless monitoring showing dropped message server refresh page lose data regularly anyone help attaching several speed test today call cst consumer dependable internet provider feel like use call system bullyfrustrate customer submission                                                                                                                                                                                                                                                                                                                                                                                                                                                                                                                                                                                                                                                                                                                                                                                                                                                                                                                            0\n",
      "people unethical disturbing oblivious customer need internet speed tear constantly changing customer charged internet speed change instance blast service first commissioned stated comcast mbps see increase bill month speaking customer rep told mbps mbps blast month plus fact mbps added bill service already told take give mbps without blast told would put mbps shopping another service end                                                                                                                                                                                                                                                                                                                                                                                                                                                                                                                                                                                                                                                                                                                                                                                                                                                                                                                                                                                                                                                                                                                                                                                                                                                                                                                                                                                                                                                                                                                                                                                                                                                                                                                                                                    0\n",
      "unplanned unexpected day outage rude service rep rearranging day set service deal totally inept technician call backup another day could go dropping failure company relying hotspot                                                                                                                                                                                                                                                                                                                                                                                                                                                                                                                                                                                                                                                                                                                                                                                                                                                                                                                                                                                                                                                                                                                                                                                                                                                                                                                                                                                                                                                                                                                                                                                                                                                                                                                                                                                                                                                                                                                                                                                      1\n",
      "warned hidden fee sign service charge extra local news station fee local sport told see first bill customer service people joke rude rude rude ask manager get snotty never let talk one know attractive package get hooked joke pay long run competitor                                                                                                                                                                                                                                                                                                                                                                                                                                                                                                                                                                                                                                                                                                                                                                                                                                                                                                                                                                                                                                                                                                                                                                                                                                                                                                                                                                                                                                                                                                                                                                                                                                                                                                                                                                                                                                                                                                                  1\n",
      "comcast overall terrible experience everyone else describing provider area time dealt ultimately moved apartment area serviced provider called cancel account took forever finally get take hardware back store keep receipt deal debt collector month claiming owed money returning hardware luckily physical proof honestly would paid whatever wasnt sure theyd keep calling would deny liability would get kicked different debt collection agency someone new would call month later finally went away never use comcast best part id call customer service would accidentally disconnect call hint want cancel service complain choose option customer service menu add service theyll connect agent immediately ultimately get connect right department directly theyll probably still disconnect time though                                                                                                                                                                                                                                                                                                                                                                                                                                                                                                                                                                                                                                                                                                                                                                                                                                                                                                                                                                                                                                                                                                                                                                                                                                                                                                                                                      0\n",
      "called infinity customer service center complain new slow performance speed first question customer service asked fast didnt buy previous offer faster service responded speed plan paying explained customer service actual test le half customer service rep said would resend signal router improved speed occurred turned hotspot cell phone file complaint getting screw comcastxfinity internet speed pay                                                                                                                                                                                                                                                                                                                                                                                                                                                                                                                                                                                                                                                                                                                                                                                                                                                                                                                                                                                                                                                                                                                                                                                                                                                                                                                                                                                                                                                                                                                                                                                                                                                                                                                                                           0\n",
      "outraged take month get internet service contacted comcast st week october internet service lucky tech come week came informed u could installation due residence brand new wasnt type line cable set told would call special tech schedule date week burial line next week came different tech came said couldnt anything cause needed burial line told last guy said really thought burial told u guy set installation modem informed u would drop line special tech burial line would soon internet running next week day neighbour apparently getting internet comcast well tech stole line hook internet cable called tech came day dropped line told happened ensured u ok special tech would drop another line come burial next week came monday tech scheduled never showed called comcast told u got behind someone would come tuesday tuesday morning tech came told u couldnt anything needed burial told story called bos told u would someone come burial day well one showed thursday week phone comcast almost hr morning tell u another tech st burial set installation sorry he trying give u option well truth option internet service provide u service comcast area murfreesboro tn im stuck comcast child game system phone tablet mention day school switching apps kid homework internet becoming need want wasnt child wouldnt getting comcast another service could get would definitely without comcast ive service past worst part customer service bill tend go price without informing ive service work time reset modem almost everyday need better job handling issue customer thats spending money company                                                                                                                                                                                                                                                                                                                                                                                                                                                                                                                                0\n",
      "got xfinity first july first week half internet hour time every single day first rep sent fix said didnt feel comfortable going crawl space told reschedule another rep come called reschedule another rep learned rep day put note changed splitter fixed problem couple day later another rep come trainee ran bunch test eventually fixed problem decided add tv security package xfinity big mistake comcastxfinity everything work internet cable security work internet connection worst setup ever encountered internet go internet longer cable security anyway added cable security package little month ago time least day week gone several hour time without internet thus without security cable well last couple night worst yesterday internet went sometime work morning didnt come back pm last night went sometime middle night hasnt since pm im still without service pay xfinity field tech worst ever encountered tech came install cable security sat phone whole time talking phone buddy suppose get dvr box didnt get one security bozo set door put keypad next door never get used like call sentry door didnt realize tried getting door couple day later went set alarm realize could set alarm inside would automatically set alarm yet another tech come day later tech fixed problem process realized lot way internet cable security wired code proceeded fix process something started whole unreliable internet process another tech come day later checked wire reliability ensured cable connected tightly inside outside even climbed power pole said found loose cable tightened make sure even dispatched bucket truck bucket truck arrived hour later went pole checked connection came back tell thing previous tech told would known going headache would settled slower speed internet paid little bit went att reliability million time better main two difference att work dedicated fiber optic line xfinitycomcast still working ancient copper wire none atts service piggyback service theyre separate dedicated service whereas xfinity service rely internet connection internet go everything go                    0\n",
      "\n",
      "Top terms per cluster:\n",
      "Cluster 0:\n",
      " internet\n",
      " service\n",
      " comcast\n",
      " customer\n",
      " contract\n",
      " would\n",
      " speed\n",
      " mbps\n",
      " month\n",
      " xfinity\n",
      "\n",
      "Cluster 1:\n",
      " rude\n",
      " rep\n",
      " service\n",
      " day\n",
      " joke\n",
      " charge\n",
      " fee\n",
      " local\n",
      " bill\n",
      " people\n",
      "\n"
     ]
    }
   ],
   "source": [
    "from sklearn.cluster import KMeans\n",
    "from tabulate import tabulate\n",
    "\n",
    "# Define the number of clusters\n",
    "k = 2\n",
    "\n",
    "# Initialize KMeans with the number of clusters\n",
    "km = KMeans(n_clusters=k)\n",
    "\n",
    "# Fit KMeans to the TF-IDF matrix\n",
    "km.fit(X)\n",
    "\n",
    "# Predict the clusters for each document\n",
    "y_pred = km.predict(X)\n",
    "\n",
    "# Display the document and its predicted cluster in a table\n",
    "table_data = [[\"Document\", \"Predicted Cluster\"]]\n",
    "table_data.extend([[doc, cluster] for doc, cluster in zip(preprocessed_text, y_pred)])\n",
    "print(tabulate(table_data, headers=\"firstrow\"))\n",
    "\n",
    "# Print top terms per cluster\n",
    "print(\"\\nTop terms per cluster:\")\n",
    "order_centroids = km.cluster_centers_.argsort()[:, ::-1]\n",
    "terms = vectorizer.get_feature_names_out()\n",
    "for i in range(k):\n",
    "    print(\"Cluster %d:\" % i)\n",
    "    for ind in order_centroids[i, :10]:\n",
    "        print(' %s' % terms[ind])\n",
    "    print()\n"
   ]
  },
  {
   "cell_type": "code",
   "execution_count": 21,
   "id": "627f93ee",
   "metadata": {},
   "outputs": [
    {
     "name": "stdout",
     "output_type": "stream",
     "text": [
      "Purity: 0.8421052631578947\n"
     ]
    }
   ],
   "source": [
    "from collections import Counter\n",
    "\n",
    "# Calculate purity\n",
    "total_samples = len(y_pred)\n",
    "cluster_label_counts = [Counter(y_pred)]\n",
    "purity = sum(max(cluster.values()) for cluster in cluster_label_counts) / total_samples\n",
    "print(\"Purity:\", purity)"
   ]
  },
  {
   "cell_type": "code",
   "execution_count": null,
   "id": "d0effaae",
   "metadata": {},
   "outputs": [],
   "source": []
  }
 ],
 "metadata": {
  "kernelspec": {
   "display_name": "Python 3 (ipykernel)",
   "language": "python",
   "name": "python3"
  },
  "language_info": {
   "codemirror_mode": {
    "name": "ipython",
    "version": 3
   },
   "file_extension": ".py",
   "mimetype": "text/x-python",
   "name": "python",
   "nbconvert_exporter": "python",
   "pygments_lexer": "ipython3",
   "version": "3.11.5"
  }
 },
 "nbformat": 4,
 "nbformat_minor": 5
}
